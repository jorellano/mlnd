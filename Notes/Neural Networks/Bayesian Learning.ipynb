{
 "cells": [
  {
   "cell_type": "markdown",
   "metadata": {},
   "source": [
    "# Bayesian Learning\n",
    "--------------------------------\n",
    "### 1. Learn the best hypothesis give data and some domain knowledge.\n",
    "\n",
    "### 2. Learn the most probable hypothesis given data & domain knowledge.\n",
    "\n",
    "## $Pr(h|D$)\n",
    "\n",
    "find argmax of h"
   ]
  },
  {
   "attachments": {},
   "cell_type": "markdown",
   "metadata": {},
   "source": [
    "## Bayes Rule\n",
    "\n",
    "\n",
    "\n",
    "## $Pr(h|D) = \\ \\frac{Pr(D|h) Pr(h)}{Pr(D)}$\n",
    "\n",
    "WHat does each mean?\n",
    "\n",
    "## $Pr(h|D)$\n",
    "- Probability of some hypothesis, given the data.\n",
    "\n",
    "## $Pr(D)$\n",
    "- Prior belief of of seeing some particular set of data\n",
    "\n",
    "## $Pr(D|h)$\n",
    "- Probabilty of the data, given the hypothesis\n",
    "\n",
    "## $Pr(h)$\n",
    "- prior knowledge over the hypothesis\n",
    "\n",
    "    "
   ]
  },
  {
   "cell_type": "markdown",
   "metadata": {},
   "source": [
    "## Algorithm\n",
    "\n",
    "For each $ h$ $\\epsilon$ $H$\n",
    "\n",
    "calculate :\n",
    "\n",
    " $Pr(h|D) = \\ \\frac{Pr(D|h) Pr(h)}{Pr(D)}$\"\n",
    " \n",
    " output:\n",
    " \n",
    " h = $argmax$ $Pr(h|D)$\n"
   ]
  },
  {
   "cell_type": "code",
   "execution_count": null,
   "metadata": {
    "collapsed": true
   },
   "outputs": [],
   "source": []
  },
  {
   "cell_type": "code",
   "execution_count": null,
   "metadata": {
    "collapsed": true
   },
   "outputs": [],
   "source": []
  },
  {
   "cell_type": "code",
   "execution_count": null,
   "metadata": {
    "collapsed": true
   },
   "outputs": [],
   "source": []
  },
  {
   "cell_type": "code",
   "execution_count": null,
   "metadata": {
    "collapsed": true
   },
   "outputs": [],
   "source": []
  },
  {
   "cell_type": "code",
   "execution_count": null,
   "metadata": {
    "collapsed": true
   },
   "outputs": [],
   "source": []
  }
 ],
 "metadata": {
  "kernelspec": {
   "display_name": "Python 3",
   "language": "python",
   "name": "python3"
  },
  "language_info": {
   "codemirror_mode": {
    "name": "ipython",
    "version": 3
   },
   "file_extension": ".py",
   "mimetype": "text/x-python",
   "name": "python",
   "nbconvert_exporter": "python",
   "pygments_lexer": "ipython3",
   "version": "3.5.2"
  }
 },
 "nbformat": 4,
 "nbformat_minor": 1
}
